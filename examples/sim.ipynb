{
 "cells": [
  {
   "cell_type": "code",
   "execution_count": 1,
   "metadata": {
    "collapsed": true
   },
   "outputs": [],
   "source": [
    "# Now we are going to run a basic simulation\n",
    "from copy import deepcopy as dc\n",
    "from ase import Atoms\n",
    "from pyiid.experiments.elasticscatter import ElasticScatter\n",
    "from pyiid.calc.calc_1d import Calc1D\n",
    "from pyiid.sim.nuts_hmc import NUTSCanonicalEnsemble\n",
    "from ase.cluster import Octahedron\n",
    "import matplotlib.pyplot as plt\n",
    "from ase.visualize import view"
   ]
  },
  {
   "cell_type": "code",
   "execution_count": 2,
   "metadata": {
    "collapsed": true
   },
   "outputs": [],
   "source": [
    "atoms = Octahedron('Au', 2)"
   ]
  },
  {
   "cell_type": "code",
   "execution_count": 6,
   "metadata": {
    "collapsed": false
   },
   "outputs": [
    {
     "name": "stderr",
     "output_type": "stream",
     "text": [
      "/home/christopher/mc/envs/sim_dev2/lib/python2.7/site-packages/gtk-2.0/gtk/__init__.py:127: RuntimeWarning: PyOS_InputHook is not available for interactive use of PyGTK\n",
      "  set_interactive(1)\n"
     ]
    }
   ],
   "source": [
    "# We can examine the configuration we made\n",
    "atoms.edit()"
   ]
  },
  {
   "cell_type": "code",
   "execution_count": 3,
   "metadata": {
    "collapsed": true
   },
   "outputs": [],
   "source": [
    "scat = ElasticScatter()\n",
    "pdf = scat.get_pdf(atoms)\n",
    "r = scat.get_r()"
   ]
  },
  {
   "cell_type": "code",
   "execution_count": 7,
   "metadata": {
    "collapsed": true
   },
   "outputs": [],
   "source": [
    "# Now lets dilate the atoms so that they don't match the pdf\n",
    "atoms2 = dc(atoms)\n",
    "atoms2.positions *= 1.03\n",
    "pdf2 = scat.get_pdf(atoms2)\n",
    "r = scat.get_r()"
   ]
  },
  {
   "cell_type": "code",
   "execution_count": 8,
   "metadata": {
    "collapsed": true
   },
   "outputs": [],
   "source": [
    "calc = Calc1D(\n",
    "    target_data=pdf,  # The target or experimental data\n",
    "    exp_function=scat.get_pdf,\n",
    "    # The function which takes in atoms and produces\n",
    "    # data like the experiment\n",
    "    exp_grad_function=scat.get_grad_pdf,  # the function which produces the\n",
    "    #  gradient of the calculated data\n",
    "    conv=100,  # conversion from the unitless goodness of fit to eV\n",
    "    potential='rw' # use the rw PES over chi squared\n",
    ")"
   ]
  },
  {
   "cell_type": "code",
   "execution_count": 9,
   "metadata": {
    "collapsed": false
   },
   "outputs": [
    {
     "name": "stdout",
     "output_type": "stream",
     "text": [
      "92.551192825\n",
      "[[ 52.77273718  -0.          -0.        ]\n",
      " [ -0.          52.77273756  -0.        ]\n",
      " [ -0.          -0.          52.77273732]\n",
      " [ -0.          -0.         -52.77273732]\n",
      " [ -0.         -52.77273729  -0.        ]\n",
      " [-52.77273729  -0.          -0.        ]]\n"
     ]
    }
   ],
   "source": [
    "# Now we attach the calculator to our displaced atoms\n",
    "atoms2.set_calculator(calc)\n",
    "# Now we can get back the potential energy\n",
    "print atoms2.get_potential_energy()\n",
    "# And the forces\n",
    "print atoms2.get_forces()"
   ]
  },
  {
   "cell_type": "code",
   "execution_count": 10,
   "metadata": {
    "collapsed": false
   },
   "outputs": [
    {
     "name": "stdout",
     "output_type": "stream",
     "text": [
      "[[ 0.  0.  0.]\n",
      " [ 0.  0.  0.]\n",
      " [ 0.  0.  0.]\n",
      " [ 0.  0.  0.]\n",
      " [ 0.  0.  0.]\n",
      " [ 0.  0.  0.]]\n",
      "trajectory file None\n",
      "trying step size 1.0\n",
      "optimal step size 1.0\n",
      "thermal_nrg 0.0861738569226\n",
      "kinetic energy 0.775564712303\n"
     ]
    }
   ],
   "source": [
    "# Now we need to make the ensemble\n",
    "ensemble = NUTSCanonicalEnsemble(atoms2, temperature=1000,\n",
    "                                 verbose=True, escape_level=8)"
   ]
  },
  {
   "cell_type": "code",
   "execution_count": 11,
   "metadata": {
    "collapsed": false
   },
   "outputs": [
    {
     "name": "stdout",
     "output_type": "stream",
     "text": [
      "iteration number 0\n",
      "\ttime step size 10.1805069739 fs\n",
      "\t \tdepth 1 samples 2\n",
      "\t \tdepth 2 samples 4\n",
      "iteration number 1\n",
      "\ttime step size 101.805069739 fs\n",
      "\t \tdepth 1 samples 2\n",
      "iteration number 2\n",
      "\ttime step size 24.1632408217 fs\n",
      "\t \tdepth 1 samples 2\n",
      "\t \tdepth 2 samples 4\n",
      "\t \tdepth 3 samples 8\n",
      "iteration number 3\n",
      "\ttime step size 3.40938267521 fs\n",
      "\t\t\tNew Potential Energy: 77.1178931441 eV\n",
      "\t\t\tNew Kinetic Energy: 11.4945074096 eV\n",
      "\t\t\tNew Temperature: 14820.8231076 K\n",
      "accepted configuration at  77.1178931441\n",
      "\t \tdepth 1 samples 2\n",
      "\t\t\tNew Potential Energy: 81.0621260014 eV\n",
      "\t\t\tNew Kinetic Energy: 8.70906708994 eV\n",
      "\t\t\tNew Temperature: 11229.323552 K\n",
      "accepted configuration at  81.0621260014\n",
      "\t \tdepth 2 samples 4\n",
      "iteration number 4\n",
      "\ttime step size 5.56119179605 fs\n",
      "\t\t\tNew Potential Energy: 44.3825612387 eV\n",
      "\t\t\tNew Kinetic Energy: 4.66243394282 eV\n",
      "\t\t\tNew Temperature: 6011.66333236 K\n",
      "accepted configuration at  44.3825612387\n",
      "\t \tdepth 1 samples 2\n",
      "iteration number 5\n",
      "\ttime step size 12.253914273 fs\n",
      "\t \tdepth 1 samples 2\n",
      "\t \tdepth 2 samples 4\n",
      "iteration number 6\n",
      "\ttime step size 1.61329856165 fs\n",
      "\t\t\tNew Potential Energy: 25.476219077 eV\n",
      "\t\t\tNew Kinetic Energy: 10.6314620423 eV\n",
      "\t\t\tNew Temperature: 13708.0270332 K\n",
      "accepted configuration at  25.476219077\n",
      "\t \tdepth 1 samples 2\n",
      "\t\t\tNew Potential Energy: 33.9891095506 eV\n",
      "\t\t\tNew Kinetic Energy: 10.8330611458 eV\n",
      "\t\t\tNew Temperature: 13967.9655017 K\n",
      "accepted configuration at  33.9891095506\n",
      "\t \tdepth 2 samples 4\n",
      "\t \tdepth 3 samples 8\n",
      "iteration number 7\n",
      "\ttime step size 1.96078476238 fs\n",
      "\t\t\tNew Potential Energy: 10.4322031488 eV\n",
      "\t\t\tNew Kinetic Energy: 11.5304562042 eV\n",
      "\t\t\tNew Temperature: 14867.1748743 K\n",
      "accepted configuration at  10.4322031488\n",
      "\t \tdepth 1 samples 2\n",
      "\t \tdepth 2 samples 4\n",
      "iteration number 8\n",
      "\ttime step size 0.242874047747 fs\n",
      "\t\t\tNew Potential Energy: 10.17329207 eV\n",
      "\t\t\tNew Kinetic Energy: 0.314242428361 eV\n",
      "\t\t\tNew Temperature: 405.17886306 K\n",
      "accepted configuration at  10.17329207\n",
      "\t \tdepth 1 samples 2\n",
      "\t\t\tNew Potential Energy: 9.2345611935 eV\n",
      "\t\t\tNew Kinetic Energy: 0.780091794332 eV\n",
      "\t\t\tNew Temperature: 1005.83714287 K\n",
      "accepted configuration at  9.2345611935\n",
      "\t \tdepth 2 samples 4\n",
      "\t\t\tNew Potential Energy: 9.98491589825 eV\n",
      "\t\t\tNew Kinetic Energy: 0.408270322895 eV\n",
      "\t\t\tNew Temperature: 526.416837201 K\n",
      "accepted configuration at  9.98491589825\n",
      "\t \tdepth 3 samples 8\n",
      "iteration number 9\n",
      "\ttime step size 0.688280130652 fs\n",
      "\t\t\tNew Potential Energy: 7.61584811567 eV\n",
      "\t\t\tNew Kinetic Energy: 1.67723247658 eV\n",
      "\t\t\tNew Temperature: 2162.59513871 K\n",
      "accepted configuration at  7.61584811567\n",
      "\t \tdepth 1 samples 2\n",
      "\t\t\tNew Potential Energy: 5.99803390214 eV\n",
      "\t\t\tNew Kinetic Energy: 2.0557903249 eV\n",
      "\t\t\tNew Temperature: 2650.7012146 K\n",
      "accepted configuration at  5.99803390214\n",
      "\t \tdepth 2 samples 4\n",
      "\t\t\tNew Potential Energy: 7.60436366046 eV\n",
      "\t\t\tNew Kinetic Energy: 1.53148725222 eV\n",
      "\t\t\tNew Temperature: 1974.67371572 K\n",
      "accepted configuration at  7.60436366046\n",
      "\t \tdepth 3 samples 8\n",
      "\t \tdepth 4 samples 16\n",
      "iteration number 10\n",
      "\ttime step size 0.74838082549 fs\n",
      "\t\t\tNew Potential Energy: 5.59276306961 eV\n",
      "\t\t\tNew Kinetic Energy: 1.33954085348 eV\n",
      "\t\t\tNew Temperature: 1727.18128124 K\n",
      "accepted configuration at  5.59276306961\n",
      "\t \tdepth 1 samples 2\n",
      "\t\t\tNew Potential Energy: 4.72415819305 eV\n",
      "\t\t\tNew Kinetic Energy: 1.44872519816 eV\n",
      "\t\t\tNew Temperature: 1867.9617254 K\n",
      "accepted configuration at  4.72415819305\n",
      "\t \tdepth 2 samples 4\n",
      "iteration number 11\n",
      "\ttime step size 0.558866383369 fs\n",
      "\t\t\tNew Potential Energy: 4.83214009362 eV\n",
      "\t\t\tNew Kinetic Energy: 1.36686370599 eV\n",
      "\t\t\tNew Temperature: 1762.41090434 K\n",
      "accepted configuration at  4.83214009362\n",
      "\t \tdepth 1 samples 2\n",
      "\t\t\tNew Potential Energy: 4.398772636 eV\n",
      "\t\t\tNew Kinetic Energy: 1.54062665497 eV\n",
      "\t\t\tNew Temperature: 1986.45790677 K\n",
      "accepted configuration at  4.398772636\n",
      "\t \tdepth 2 samples 4\n",
      "\t\t\tNew Potential Energy: 4.08677884771 eV\n",
      "\t\t\tNew Kinetic Energy: 1.73896974679 eV\n",
      "\t\t\tNew Temperature: 2242.19812893 K\n",
      "accepted configuration at  4.08677884771\n",
      "\t \tdepth 3 samples 8\n",
      "\t\t\tNew Potential Energy: 2.67253362249 eV\n",
      "\t\t\tNew Kinetic Energy: 2.52070897509 eV\n",
      "\t\t\tNew Temperature: 3250.15944524 K\n",
      "accepted configuration at  2.67253362249\n",
      "\t \tdepth 4 samples 16\n",
      "\t\t\tNew Potential Energy: 4.38588848669 eV\n",
      "\t\t\tNew Kinetic Energy: 1.54544460456 eV\n",
      "\t\t\tNew Temperature: 1992.67008934 K\n",
      "accepted configuration at  4.38588848669\n",
      "\t \tdepth 5 samples 32\n",
      "\t \tdepth 6 samples 64\n",
      "iteration number 12\n",
      "\ttime step size 1.09350589303 fs\n",
      "\t\t\tNew Potential Energy: 3.92730973935 eV\n",
      "\t\t\tNew Kinetic Energy: 1.24573921512 eV\n",
      "\t\t\tNew Temperature: 1606.23503797 K\n",
      "accepted configuration at  3.92730973935\n",
      "\t \tdepth 1 samples 2\n",
      "\t \tdepth 2 samples 4\n",
      "\t\t\tNew Potential Energy: 3.70144614137 eV\n",
      "\t\t\tNew Kinetic Energy: 1.32753677636 eV\n",
      "\t\t\tNew Temperature: 1711.70342758 K\n",
      "accepted configuration at  3.70144614137\n",
      "\t \tdepth 3 samples 8\n",
      "\t\t\tNew Potential Energy: 2.40212442515 eV\n",
      "\t\t\tNew Kinetic Energy: 1.76940287098 eV\n",
      "\t\t\tNew Temperature: 2281.43808364 K\n",
      "accepted configuration at  2.40212442515\n",
      "\t \tdepth 4 samples 16\n",
      "iteration number 13\n",
      "\ttime step size 0.961134542289 fs\n",
      "\t\t\tNew Potential Energy: 2.79735087704 eV\n",
      "\t\t\tNew Kinetic Energy: 0.783866694969 eV\n",
      "\t\t\tNew Temperature: 1010.70443579 K\n",
      "accepted configuration at  2.79735087704\n",
      "\t \tdepth 1 samples 2\n",
      "\t \tdepth 2 samples 4\n",
      "\t \tdepth 3 samples 8\n",
      "iteration number 14\n",
      "\ttime step size 0.621136597166 fs\n",
      "\t\t\tNew Potential Energy: 2.23202787068 eV\n",
      "\t\t\tNew Kinetic Energy: 0.963934401686 eV\n",
      "\t\t\tNew Temperature: 1242.88068603 K\n",
      "accepted configuration at  2.23202787068\n",
      "\t \tdepth 1 samples 2\n",
      "\t \tdepth 2 samples 4\n",
      "\t \tdepth 3 samples 8\n",
      "\t \tdepth 4 samples 16\n",
      "\t \tdepth 5 samples 32\n",
      "\t \tdepth 6 samples 64\n",
      "iteration number 15\n",
      "\ttime step size 0.554941121387 fs\n",
      "\t\t\tNew Potential Energy: 2.05122264008 eV\n",
      "\t\t\tNew Kinetic Energy: 0.513549462744 eV\n",
      "\t\t\tNew Temperature: 662.161976425 K\n",
      "accepted configuration at  2.05122264008\n",
      "\t \tdepth 1 samples 2\n",
      "\t\t\tNew Potential Energy: 1.76994049258 eV\n",
      "\t\t\tNew Kinetic Energy: 0.603824464175 eV\n",
      "\t\t\tNew Temperature: 778.561033781 K\n",
      "accepted configuration at  1.76994049258\n",
      "\t \tdepth 2 samples 4\n",
      "\t\t\tNew Potential Energy: 2.10360655451 eV\n",
      "\t\t\tNew Kinetic Energy: 0.802092359082 eV\n",
      "\t\t\tNew Temperature: 1034.20429831 K\n",
      "accepted configuration at  2.10360655451\n",
      "\t \tdepth 3 samples 8\n",
      "\t \tdepth 4 samples 16\n",
      "\t\t\tNew Potential Energy: 1.40440450847 eV\n",
      "\t\t\tNew Kinetic Energy: 0.839152321928 eV\n",
      "\t\t\tNew Temperature: 1081.98878651 K\n",
      "accepted configuration at  1.40440450847\n",
      "\t \tdepth 5 samples 32\n",
      "\t \tdepth 6 samples 64\n",
      "iteration number 16\n",
      "\ttime step size 0.770283413272 fs\n",
      "\t \tdepth 1 samples 2\n",
      "\t\t\tNew Potential Energy: 1.82682191801 eV\n",
      "\t\t\tNew Kinetic Energy: 1.0242472846 eV\n",
      "\t\t\tNew Temperature: 1320.64709541 K\n",
      "accepted configuration at  1.82682191801\n",
      "\t \tdepth 2 samples 4\n",
      "\t\t\tNew Potential Energy: 1.52909457319 eV\n",
      "\t\t\tNew Kinetic Energy: 0.932256487429 eV\n",
      "\t\t\tNew Temperature: 1202.03572009 K\n",
      "accepted configuration at  1.52909457319\n",
      "\t \tdepth 3 samples 8\n",
      "\t\t\tNew Potential Energy: 1.99228988363 eV\n",
      "\t\t\tNew Kinetic Energy: 0.921296661275 eV\n",
      "\t\t\tNew Temperature: 1187.90430593 K\n",
      "accepted configuration at  1.99228988363\n",
      "\t \tdepth 4 samples 16\n",
      "iteration number 17\n",
      "\ttime step size 0.773665603662 fs\n",
      "\t\t\tNew Potential Energy: 2.42274709527 eV\n",
      "\t\t\tNew Kinetic Energy: 0.60430994351 eV\n",
      "\t\t\tNew Temperature: 779.187002611 K\n",
      "accepted configuration at  2.42274709527\n",
      "\t \tdepth 1 samples 2\n",
      "\t \tdepth 2 samples 4\n",
      "\t\t\tNew Potential Energy: 2.27713837985 eV\n",
      "\t\t\tNew Kinetic Energy: 0.475807239257 eV\n",
      "\t\t\tNew Temperature: 613.497792911 K\n",
      "accepted configuration at  2.27713837985\n",
      "\t \tdepth 3 samples 8\n",
      "\t\t\tNew Potential Energy: 2.0983386928 eV\n",
      "\t\t\tNew Kinetic Energy: 0.720278714878 eV\n",
      "\t\t\tNew Temperature: 928.715171606 K\n",
      "accepted configuration at  2.0983386928\n",
      "\t \tdepth 4 samples 16\n",
      "\t \tdepth 5 samples 32\n",
      "iteration number 18\n",
      "\ttime step size 0.71499634903 fs\n",
      "\t\t\tNew Potential Energy: 1.20476406977 eV\n",
      "\t\t\tNew Kinetic Energy: 0.868598480962 eV\n",
      "\t\t\tNew Temperature: 1119.95616508 K\n",
      "accepted configuration at  1.20476406977\n",
      "\t \tdepth 1 samples 2\n",
      "\t \tdepth 2 samples 4\n",
      "\t \tdepth 3 samples 8\n",
      "\t\t\tNew Potential Energy: 1.24267796314 eV\n",
      "\t\t\tNew Kinetic Energy: 0.879844653627 eV\n",
      "\t\t\tNew Temperature: 1134.45678957 K\n",
      "accepted configuration at  1.24267796314\n",
      "\t \tdepth 4 samples 16\n",
      "\t \tdepth 5 samples 32\n",
      "iteration number 19\n",
      "\ttime step size 0.550281037466 fs\n",
      "\t \tdepth 1 samples 2\n",
      "\t\t\tNew Potential Energy: 0.780056355097 eV\n",
      "\t\t\tNew Kinetic Energy: 0.556834754959 eV\n",
      "\t\t\tNew Temperature: 717.973298844 K\n",
      "accepted configuration at  0.780056355097\n",
      "\t \tdepth 2 samples 4\n",
      "\t\t\tNew Potential Energy: 0.912521131482 eV\n",
      "\t\t\tNew Kinetic Energy: 0.596253133148 eV\n",
      "\t\t\tNew Temperature: 768.798687833 K\n",
      "accepted configuration at  0.912521131482\n",
      "\t \tdepth 3 samples 8\n",
      "\t \tdepth 4 samples 16\n",
      "\t\t\tNew Potential Energy: 0.868506689366 eV\n",
      "\t\t\tNew Kinetic Energy: 0.598752045359 eV\n",
      "\t\t\tNew Temperature: 772.020742899 K\n",
      "accepted configuration at  0.868506689366\n",
      "\t \tdepth 5 samples 32\n",
      "\t\t\tNew Potential Energy: 1.40855634714 eV\n",
      "\t\t\tNew Kinetic Energy: 0.723289411299 eV\n",
      "\t\t\tNew Temperature: 932.597112562 K\n",
      "accepted configuration at  1.40855634714\n",
      "\t \tdepth 6 samples 64\n",
      "\t \tdepth 7 samples 128\n"
     ]
    }
   ],
   "source": [
    "# Now run the simulation\n",
    "traj, metadata = ensemble.run(20)"
   ]
  },
  {
   "cell_type": "code",
   "execution_count": null,
   "metadata": {
    "collapsed": true
   },
   "outputs": [],
   "source": [
    "view(traj)"
   ]
  }
 ],
 "metadata": {
  "kernelspec": {
   "display_name": "Python 2",
   "language": "python",
   "name": "python2"
  },
  "language_info": {
   "codemirror_mode": {
    "name": "ipython",
    "version": 2
   },
   "file_extension": ".py",
   "mimetype": "text/x-python",
   "name": "python",
   "nbconvert_exporter": "python",
   "pygments_lexer": "ipython2",
   "version": "2.7.12"
  },
  "widgets": {
   "state": {},
   "version": "1.1.2"
  }
 },
 "nbformat": 4,
 "nbformat_minor": 0
}
